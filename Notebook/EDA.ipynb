{
  "cells" : [ {
    "metadata" : { },
    "cell_type" : "markdown",
    "source" : "# EDA\n",
    "id" : "8a77807f92f26ee"
  }, {
    "metadata" : {
      "ExecuteTime" : {
        "end_time" : "2025-10-21T10:55:38.386280Z",
        "start_time" : "2025-10-21T10:55:29.768064Z"
      }
    },
    "cell_type" : "code",
    "source" : [ "import pandas as pd\n", "import requests\n", "from io import StringIO\n", "\n", "# Ссылка на csv файл видеоданных\n", "url = 'https://drive.google.com/file/d/1xxVEprqDIAMIc9rAIo5LNjAjAzfH2sPq/view?usp=share_link'\n", "\n", "file_id = url.split('/')[-2]\n", "dwn_url = 'https://drive.google.com/uc?export=download&id=' + file_id\n", "response = requests.get(dwn_url)\n", "response.raise_for_status()\n", "\n", "csv_raw = StringIO(response.text)\n", "raw_data = pd.read_csv(csv_raw)\n", "\n", "print(\"Данные загружены из внешнего CSV файла. Файл не был сгенерирован искусственным интеллектом.\\n\")\n", "\n", "print(\"Переменные в данных:\", raw_data.columns.tolist())\n", "\n", "# Completeness: доля непустых значений по столбцам\n", "completeness = raw_data.notnull().mean()\n", "\n", "# Uniqueness: доля уникальных строк\n", "total_rows = len(raw_data)\n", "unique_rows = raw_data.drop_duplicates().shape[0]\n", "uniqueness = unique_rows / total_rows if total_rows > 0 else 0\n", "\n", "# Duplication Rate: процент дубликатов\n", "duplication_rate = 1 - uniqueness\n", "\n", "# Accuracy (простейшая проверка для числовых столбцов — доля отрицательных значений)\n", "accuracy_report = {}\n", "for col in raw_data.columns:\n", "    if pd.api.types.is_numeric_dtype(raw_data[col]):\n", "        neg_count = (raw_data[col] < 0).sum()\n", "        total_count = len(raw_data[col])\n", "        accuracy_report[col] = {\n", "            \"negative_values\": neg_count,\n", "            \"total\": total_count,\n", "            \"negative_ratio\": neg_count / total_count if total_count > 0 else 0\n", "        }\n", "    else:\n", "        accuracy_report[col] = \"Не числовой столбец — проверка не выполнена.\"\n", "\n", "print(\"\\nОценка качества данных:\")\n", "print(\"1. Completeness (полнота) по столбцам:\")\n", "print(completeness)\n", "\n", "print(f\"\\n2. Uniqueness (уникальность строк): {uniqueness:.4f} ({unique_rows} уникальных из {total_rows} записей)\")\n", "\n", "print(f\"\\n3. Duplication Rate (уровень дублирования): {duplication_rate:.4f}\")\n", "\n", "print(\"\\n4. Accuracy (простейшая проверка отрицательных значений в числовых столбцах):\")\n", "for col, stats in accuracy_report.items():\n", "    if isinstance(stats, dict):\n", "        print(f\" - {col}: отрицательных значений = {stats['negative_values']} из {stats['total']} \"\n", "              f\"(доля {stats['negative_ratio']:.4f})\")\n", "    else:\n", "        print(f\" - {col}: {stats}\")\n" ],
    "id" : "66a880e67637bc8d",
    "outputs" : [ {
      "name" : "stdout",
      "output_type" : "stream",
      "text" : [ "Данные загружены из внешнего CSV файла. Файл не был сгенерирован искусственным интеллектом.\n", "\n", "Переменные в данных: ['bodyparts', 'snout_x', 'snout_y', 'likelihood', 'leftforword_x', 'leftforword_y', 'likelihood.1', 'rightforword_x', 'rightforword_y', 'likelihood.2', 'midbody_x', 'midbody_y', 'likelihood.3', 'leftback_x', 'leftback_y', 'likelihood.4', 'rightback_x', 'rightback_y', 'likelihood.5', 'tail_x', 'tail_y', 'likelihood.6']\n", "\n", "Оценка качества данных:\n", "1. Completeness (полнота) по столбцам:\n", "bodyparts         1.0\n", "snout_x           1.0\n", "snout_y           1.0\n", "likelihood        1.0\n", "leftforword_x     1.0\n", "leftforword_y     1.0\n", "likelihood.1      1.0\n", "rightforword_x    1.0\n", "rightforword_y    1.0\n", "likelihood.2      1.0\n", "midbody_x         1.0\n", "midbody_y         1.0\n", "likelihood.3      1.0\n", "leftback_x        1.0\n", "leftback_y        1.0\n", "likelihood.4      1.0\n", "rightback_x       1.0\n", "rightback_y       1.0\n", "likelihood.5      1.0\n", "tail_x            1.0\n", "tail_y            1.0\n", "likelihood.6      1.0\n", "dtype: float64\n", "\n", "2. Uniqueness (уникальность строк): 1.0000 (27473 уникальных из 27473 записей)\n", "\n", "3. Duplication Rate (уровень дублирования): 0.0000\n", "\n", "4. Accuracy (простейшая проверка отрицательных значений в числовых столбцах):\n", " - bodyparts: отрицательных значений = 0 из 27473 (доля 0.0000)\n", " - snout_x: отрицательных значений = 0 из 27473 (доля 0.0000)\n", " - snout_y: отрицательных значений = 0 из 27473 (доля 0.0000)\n", " - likelihood: отрицательных значений = 0 из 27473 (доля 0.0000)\n", " - leftforword_x: отрицательных значений = 0 из 27473 (доля 0.0000)\n", " - leftforword_y: отрицательных значений = 0 из 27473 (доля 0.0000)\n", " - likelihood.1: отрицательных значений = 0 из 27473 (доля 0.0000)\n", " - rightforword_x: отрицательных значений = 0 из 27473 (доля 0.0000)\n", " - rightforword_y: отрицательных значений = 0 из 27473 (доля 0.0000)\n", " - likelihood.2: отрицательных значений = 0 из 27473 (доля 0.0000)\n", " - midbody_x: отрицательных значений = 0 из 27473 (доля 0.0000)\n", " - midbody_y: отрицательных значений = 0 из 27473 (доля 0.0000)\n", " - likelihood.3: отрицательных значений = 0 из 27473 (доля 0.0000)\n", " - leftback_x: отрицательных значений = 0 из 27473 (доля 0.0000)\n", " - leftback_y: отрицательных значений = 0 из 27473 (доля 0.0000)\n", " - likelihood.4: отрицательных значений = 0 из 27473 (доля 0.0000)\n", " - rightback_x: отрицательных значений = 0 из 27473 (доля 0.0000)\n", " - rightback_y: отрицательных значений = 0 из 27473 (доля 0.0000)\n", " - likelihood.5: отрицательных значений = 0 из 27473 (доля 0.0000)\n", " - tail_x: отрицательных значений = 0 из 27473 (доля 0.0000)\n", " - tail_y: отрицательных значений = 0 из 27473 (доля 0.0000)\n", " - likelihood.6: отрицательных значений = 0 из 27473 (доля 0.0000)\n" ]
    } ],
    "execution_count" : 1
  }, {
    "metadata" : {
      "ExecuteTime" : {
        "end_time" : "2025-10-21T10:42:58.046201Z",
        "start_time" : "2025-10-21T10:42:44.684912Z"
      }
    },
    "cell_type" : "code",
    "source" : [ "import pandas as pd\n", "import requests\n", "from io import StringIO\n", "\n", "# Ссылка на csv файл видеоданных\n", "url = 'https://drive.google.com/file/d/1xxVEprqDIAMIc9rAIo5LNjAjAzfH2sPq/view?usp=share_link'\n", "\n", "file_id = url.split('/')[-2]\n", "dwn_url = 'https://drive.google.com/uc?export=download&id=' + file_id\n", "response = requests.get(dwn_url)\n", "response.raise_for_status()\n", "\n", "csv_raw = StringIO(response.text)\n", "raw_data = pd.read_csv(csv_raw)\n", "\n", "print(\"Данные загружены из внешнего CSV файла. Файл не был сгенерирован искусственным интеллектом.\\n\")\n", "\n", "print(\"Переменные в данных:\", raw_data.columns.tolist())\n", "\n", "# Completeness: доля непустых значений по столбцам\n", "completeness = raw_data.notnull().mean()\n", "\n", "# Uniqueness: доля уникальных строк\n", "total_rows = len(raw_data)\n", "unique_rows = raw_data.drop_duplicates().shape[0]\n", "uniqueness = unique_rows / total_rows if total_rows > 0 else 0\n", "\n", "# Duplication Rate: процент дубликатов\n", "duplication_rate = 1 - uniqueness\n", "\n", "# Accuracy (простейшая проверка для числовых столбцов — доля отрицательных значений)\n", "accuracy_report = {}\n", "for col in raw_data.columns:\n", "    if pd.api.types.is_numeric_dtype(raw_data[col]):\n", "        neg_count = (raw_data[col] < 0).sum()\n", "        total_count = len(raw_data[col])\n", "        accuracy_report[col] = {\n", "            \"negative_values\": neg_count,\n", "            \"total\": total_count,\n", "            \"negative_ratio\": neg_count / total_count if total_count > 0 else 0\n", "        }\n", "    else:\n", "        accuracy_report[col] = \"Не числовой столбец — проверка не выполнена.\"\n", "\n", "print(\"\\nОценка качества данных:\")\n", "print(\"1. Completeness (полнота) по столбцам:\")\n", "print(completeness)\n", "\n", "print(f\"\\n2. Uniqueness (уникальность строк): {uniqueness:.4f} ({unique_rows} уникальных из {total_rows} записей)\")\n", "\n", "print(f\"\\n3. Duplication Rate (уровень дублирования): {duplication_rate:.4f}\")\n", "\n", "print(\"\\n4. Accuracy (простейшая проверка отрицательных значений в числовых столбцах):\")\n", "for col, stats in accuracy_report.items():\n", "    if isinstance(stats, dict):\n", "        print(f\" - {col}: отрицательных значений = {stats['negative_values']} из {stats['total']} \"\n", "              f\"(доля {stats['negative_ratio']:.4f})\")\n", "    else:\n", "        print(f\" - {col}: {stats}\")\n" ],
    "id" : "effbcc53861b79d9",
    "outputs" : [ {
      "name" : "stdout",
      "output_type" : "stream",
      "text" : [ "Данные загружены из внешнего CSV файла. Файл не был сгенерирован искусственным интеллектом.\n", "\n", "Переменные в данных: ['bodyparts', 'snout_x', 'snout_y', 'likelihood', 'leftforword_x', 'leftforword_y', 'likelihood.1', 'rightforword_x', 'rightforword_y', 'likelihood.2', 'midbody_x', 'midbody_y', 'likelihood.3', 'leftback_x', 'leftback_y', 'likelihood.4', 'rightback_x', 'rightback_y', 'likelihood.5', 'tail_x', 'tail_y', 'likelihood.6']\n", "\n", "Оценка качества данных:\n", "1. Completeness (полнота) по столбцам:\n", "bodyparts         1.0\n", "snout_x           1.0\n", "snout_y           1.0\n", "likelihood        1.0\n", "leftforword_x     1.0\n", "leftforword_y     1.0\n", "likelihood.1      1.0\n", "rightforword_x    1.0\n", "rightforword_y    1.0\n", "likelihood.2      1.0\n", "midbody_x         1.0\n", "midbody_y         1.0\n", "likelihood.3      1.0\n", "leftback_x        1.0\n", "leftback_y        1.0\n", "likelihood.4      1.0\n", "rightback_x       1.0\n", "rightback_y       1.0\n", "likelihood.5      1.0\n", "tail_x            1.0\n", "tail_y            1.0\n", "likelihood.6      1.0\n", "dtype: float64\n", "\n", "2. Uniqueness (уникальность строк): 1.0000 (27473 уникальных из 27473 записей)\n", "\n", "3. Duplication Rate (уровень дублирования): 0.0000\n", "\n", "4. Accuracy (простейшая проверка отрицательных значений в числовых столбцах):\n", " - bodyparts: отрицательных значений = 0 из 27473 (доля 0.0000)\n", " - snout_x: отрицательных значений = 0 из 27473 (доля 0.0000)\n", " - snout_y: отрицательных значений = 0 из 27473 (доля 0.0000)\n", " - likelihood: отрицательных значений = 0 из 27473 (доля 0.0000)\n", " - leftforword_x: отрицательных значений = 0 из 27473 (доля 0.0000)\n", " - leftforword_y: отрицательных значений = 0 из 27473 (доля 0.0000)\n", " - likelihood.1: отрицательных значений = 0 из 27473 (доля 0.0000)\n", " - rightforword_x: отрицательных значений = 0 из 27473 (доля 0.0000)\n", " - rightforword_y: отрицательных значений = 0 из 27473 (доля 0.0000)\n", " - likelihood.2: отрицательных значений = 0 из 27473 (доля 0.0000)\n", " - midbody_x: отрицательных значений = 0 из 27473 (доля 0.0000)\n", " - midbody_y: отрицательных значений = 0 из 27473 (доля 0.0000)\n", " - likelihood.3: отрицательных значений = 0 из 27473 (доля 0.0000)\n", " - leftback_x: отрицательных значений = 0 из 27473 (доля 0.0000)\n", " - leftback_y: отрицательных значений = 0 из 27473 (доля 0.0000)\n", " - likelihood.4: отрицательных значений = 0 из 27473 (доля 0.0000)\n", " - rightback_x: отрицательных значений = 0 из 27473 (доля 0.0000)\n", " - rightback_y: отрицательных значений = 0 из 27473 (доля 0.0000)\n", " - likelihood.5: отрицательных значений = 0 из 27473 (доля 0.0000)\n", " - tail_x: отрицательных значений = 0 из 27473 (доля 0.0000)\n", " - tail_y: отрицательных значений = 0 из 27473 (доля 0.0000)\n", " - likelihood.6: отрицательных значений = 0 из 27473 (доля 0.0000)\n" ]
    } ],
    "execution_count" : 4
  }, {
    "metadata" : { },
    "cell_type" : "markdown",
    "source" : "",
    "id" : "811e8547ed2fe0fc"
  } ],
  "metadata" : {
    "kernelspec" : {
      "display_name" : "Python 3",
      "language" : "python",
      "name" : "python3"
    },
    "language_info" : {
      "codemirror_mode" : {
        "name" : "ipython",
        "version" : 2
      },
      "file_extension" : ".py",
      "mimetype" : "text/x-python",
      "name" : "python",
      "nbconvert_exporter" : "python",
      "pygments_lexer" : "ipython2",
      "version" : "2.7.6"
    }
  },
  "nbformat" : 4,
  "nbformat_minor" : 5
}
