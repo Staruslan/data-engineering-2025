import pandas as pd
import requests
from io import StringIO

# Загрузка данных
url = 'https://drive.google.com/file/d/1xxVEprqDIAMIc9rAIo5LNjAjAzfH2sPq/view?usp=share_link'
file_id = url.split('/')[-2]
dwn_url = 'https://drive.google.com/uc?export=download&id=' + file_id
url2 = requests.get(dwn_url).text
csv_raw = StringIO(url2)
raw_data = pd.read_csv(csv_raw)


# Оценка полноты данных
def completeness(dataframe):
    total_cells = dataframe.size
    total_missing = dataframe.isnull().sum().sum()
    completeness_percentage = (total_cells - total_missing) / total_cells * 100
    return completeness_percentage


# Оценка уникальности записей
def uniqueness(dataframe):
    total_records = dataframe.shape[0]
    unique_records = dataframe.drop_duplicates().shape[0]
    uniqueness_percentage = unique_records / total_records * 100
    return uniqueness_percentage


# Оценка доли выбросов
def outlier_ratio(dataframe):
    numerical_cols = dataframe.select_dtypes(include=['float64', 'int64']).columns
    outlier_count = 0
    total_count = 0

    for col in numerical_cols:
        Q1 = dataframe[col].quantile(0.25)
        Q3 = dataframe[col].quantile(0.75)
        IQR = Q3 - Q1
        lower_bound = Q1 - 1.5 * IQR
        upper_bound = Q3 + 1.5 * IQR

        outlier_count += ((dataframe[col] < lower_bound) | (dataframe[col] > upper_bound)).sum()
        total_count += dataframe[col].shape[0]

    if total_count == 0:
        return 0  # Если нет числовых столбцов

    outlier_ratio_percentage = outlier_count / total_count * 100
    return outlier_ratio_percentage


# Вычисляем метрики
completeness_score = completeness(raw_data)
uniqueness_score = uniqueness(raw_data)
outlier_ratio_score = outlier_ratio(raw_data)

# Вывод результатов
print(f"Completeness: {completeness_score:.2f}%")
print(f"Uniqueness: {uniqueness_score:.2f}%")
print(f"Outlier Ratio: {outlier_ratio_score:.2f}%")
