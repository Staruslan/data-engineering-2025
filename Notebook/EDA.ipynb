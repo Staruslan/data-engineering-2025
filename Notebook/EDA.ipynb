{
  "cells" : [ {
    "metadata" : { },
    "cell_type" : "markdown",
    "source" : [ "**Исследовательский анализ данных (EDA) по видеоданным**\n", "\n", "**Введение**\n", "\n", "В этом проекте проводится предварительный анализ данных, полученных из внешнего CSV-файла с видеоданными.\n", "\n", "**_Цель_** — оценить качество данных по критериям полноты, уникальности, дублирования и точности, что позволит понять их пригодность для дальнейшей обработки и моделирования.\n", "\n", "**Загрузка и первичный обзор данных**" ],
    "id" : "8a77807f92f26ee"
  }, {
    "metadata" : { },
    "cell_type" : "code",
    "outputs" : [ ],
    "execution_count" : null,
    "source" : [ "import pandas as pd\n", "import requests\n", "from io import StringIO\n", "\n", "# Ссылка на csv файл видеоданных\n", "url = 'https://drive.google.com/file/d/1xxVEprqDIAMIc9rAIo5LNjAjAzfH2sPq/view?usp=share_link'\n", "\n", "file_id = url.split('/')[-2]\n", "dwn_url = 'https://drive.google.com/uc?export=download&id=' + file_id\n", "response = requests.get(dwn_url)\n", "response.raise_for_status()\n", "\n", "csv_raw = StringIO(response.text)\n", "raw_data = pd.read_csv(csv_raw)\n", "\n", "print(\"Переменные в данных:\", raw_data.columns.tolist())\n" ],
    "id" : "fbc121e30a2defb3"
  }, {
    "metadata" : { },
    "cell_type" : "markdown",
    "source" : "**_Вывод:_** Данные успешно загружены и доступен список переменных (столбцов), включающих координаты движений различных частей тела и вероятность достоверности данных",
    "id" : "9e65cac473101f8d"
  }, {
    "metadata" : { },
    "cell_type" : "markdown",
    "source" : "**Оценка полноты данных** (Completeness)",
    "id" : "8689a0a3197c6c1d"
  }, {
    "metadata" : {
      "ExecuteTime" : {
        "end_time" : "2025-10-27T17:24:26.748903Z",
        "start_time" : "2025-10-27T17:24:26.657475Z"
      }
    },
    "cell_type" : "code",
    "source" : [ "# Рассчитываем долю непустых значений по каждому столбцу\n", "completeness = raw_data.notnull().mean()\n", "print(\"1. Completeness (полнота) по столбцам:\")\n", "print(completeness)\n" ],
    "id" : "4ebd0fef3fb9fdd5",
    "outputs" : [ {
      "name" : "stdout",
      "output_type" : "stream",
      "text" : [ "1. Completeness (полнота) по столбцам:\n", "bodyparts         1.0\n", "snout_x           1.0\n", "snout_y           1.0\n", "likelihood        1.0\n", "leftforword_x     1.0\n", "leftforword_y     1.0\n", "likelihood.1      1.0\n", "rightforword_x    1.0\n", "rightforword_y    1.0\n", "likelihood.2      1.0\n", "midbody_x         1.0\n", "midbody_y         1.0\n", "likelihood.3      1.0\n", "leftback_x        1.0\n", "leftback_y        1.0\n", "likelihood.4      1.0\n", "rightback_x       1.0\n", "rightback_y       1.0\n", "likelihood.5      1.0\n", "tail_x            1.0\n", "tail_y            1.0\n", "likelihood.6      1.0\n", "dtype: float64\n" ]
    } ],
    "execution_count" : 3
  }, {
    "metadata" : { },
    "cell_type" : "code",
    "outputs" : [ ],
    "execution_count" : null,
    "source" : "**_Вывод:_** Все столбцы имеют высокую полноту (доля заполненных значений), что положительно сказывается на надежности анализа.",
    "id" : "254f15691c552bdd"
  }, {
    "metadata" : { },
    "cell_type" : "markdown",
    "source" : "**Анализ уникальности и дублирования строк**",
    "id" : "a682f4290e77c104"
  }, {
    "metadata" : {
      "ExecuteTime" : {
        "end_time" : "2025-10-27T17:25:28.107338Z",
        "start_time" : "2025-10-27T17:25:27.982151Z"
      }
    },
    "cell_type" : "code",
    "source" : [ "total_rows = len(raw_data)\n", "unique_rows = raw_data.drop_duplicates().shape[0]\n", "uniqueness = unique_rows / total_rows if total_rows > 0 else 0\n", "\n", "duplication_rate = 1 - uniqueness\n", "\n", "print(f\"\\n2. Uniqueness (уникальность строк): {uniqueness:.4f} ({unique_rows} уникальных из {total_rows} записей)\")\n", "print(f\"\\n3. Duplication Rate (уровень дублирования): {duplication_rate:.4f}\")\n" ],
    "id" : "5715b8cf9ce50711",
    "outputs" : [ {
      "name" : "stdout",
      "output_type" : "stream",
      "text" : [ "\n", "2. Uniqueness (уникальность строк): 1.0000 (27473 уникальных из 27473 записей)\n", "\n", "3. Duplication Rate (уровень дублирования): 0.0000\n" ]
    } ],
    "execution_count" : 4
  }, {
    "metadata" : { },
    "cell_type" : "markdown",
    "source" : "**_Вывод:_** Данные практически не содержат дубликатов, что указывает на хорошее качество записи.",
    "id" : "2487de8df3fac7bd"
  }, {
    "metadata" : { },
    "cell_type" : "markdown",
    "source" : "**Проверка точности данных (Accuracy) — выявление отрицательных значений**",
    "id" : "cc987dc77eb8d78e"
  }, {
    "metadata" : {
      "ExecuteTime" : {
        "end_time" : "2025-10-27T17:26:27.698813Z",
        "start_time" : "2025-10-27T17:26:27.661449Z"
      }
    },
    "cell_type" : "code",
    "source" : [ "accuracy_report = {}\n", "for col in raw_data.columns:\n", "    if pd.api.types.is_numeric_dtype(raw_data[col]):\n", "        neg_count = (raw_data[col] < 0).sum()\n", "        total_count = len(raw_data[col])\n", "        accuracy_report[col] = {\n", "            \"negative_values\": neg_count,\n", "            \"total\": total_count,\n", "            \"negative_ratio\": neg_count / total_count if total_count > 0 else 0\n", "        }\n", "    else:\n", "        accuracy_report[col] = \"Не числовой столбец — проверка не выполнена.\"\n", "\n", "print(\"\\n4. Accuracy (простейшая проверка отрицательных значений в числовых столбцах):\")\n", "for col, stats in accuracy_report.items():\n", "    if isinstance(stats, dict):\n", "        print(f\" - {col}: отрицательных значений = {stats['negative_values']} из {stats['total']} \"\n", "              f\"(доля {stats['negative_ratio']:.4f})\")\n", "    else:\n", "        print(f\" - {col}: {stats}\")\n" ],
    "id" : "d9fb2c8ab1563b7",
    "outputs" : [ {
      "name" : "stdout",
      "output_type" : "stream",
      "text" : [ "\n", "4. Accuracy (простейшая проверка отрицательных значений в числовых столбцах):\n", " - bodyparts: отрицательных значений = 0 из 27473 (доля 0.0000)\n", " - snout_x: отрицательных значений = 0 из 27473 (доля 0.0000)\n", " - snout_y: отрицательных значений = 0 из 27473 (доля 0.0000)\n", " - likelihood: отрицательных значений = 0 из 27473 (доля 0.0000)\n", " - leftforword_x: отрицательных значений = 0 из 27473 (доля 0.0000)\n", " - leftforword_y: отрицательных значений = 0 из 27473 (доля 0.0000)\n", " - likelihood.1: отрицательных значений = 0 из 27473 (доля 0.0000)\n", " - rightforword_x: отрицательных значений = 0 из 27473 (доля 0.0000)\n", " - rightforword_y: отрицательных значений = 0 из 27473 (доля 0.0000)\n", " - likelihood.2: отрицательных значений = 0 из 27473 (доля 0.0000)\n", " - midbody_x: отрицательных значений = 0 из 27473 (доля 0.0000)\n", " - midbody_y: отрицательных значений = 0 из 27473 (доля 0.0000)\n", " - likelihood.3: отрицательных значений = 0 из 27473 (доля 0.0000)\n", " - leftback_x: отрицательных значений = 0 из 27473 (доля 0.0000)\n", " - leftback_y: отрицательных значений = 0 из 27473 (доля 0.0000)\n", " - likelihood.4: отрицательных значений = 0 из 27473 (доля 0.0000)\n", " - rightback_x: отрицательных значений = 0 из 27473 (доля 0.0000)\n", " - rightback_y: отрицательных значений = 0 из 27473 (доля 0.0000)\n", " - likelihood.5: отрицательных значений = 0 из 27473 (доля 0.0000)\n", " - tail_x: отрицательных значений = 0 из 27473 (доля 0.0000)\n", " - tail_y: отрицательных значений = 0 из 27473 (доля 0.0000)\n", " - likelihood.6: отрицательных значений = 0 из 27473 (доля 0.0000)\n" ]
    } ],
    "execution_count" : 5
  }, {
    "metadata" : { },
    "cell_type" : "markdown",
    "source" : "**_Вывод:_** Отрицательные значения отсутствуют во всех числовых столбцах, что свидетельствует о корректности данных.",
    "id" : "57f80cc62a5c4636"
  }, {
    "metadata" : { },
    "cell_type" : "markdown",
    "source" : [ "**Заключение**\n", "\n", "Произведенный исследовательский анализ показал, что данные целостны, практически не содержат дубликатов и не имеют явных ошибок в виде отрицательных значений в числовых столбцах. Такой уровень качества позволяет использовать данный набор данных для дальнейшей аналитики и построения моделей движения." ],
    "id" : "25ced8f634243664"
  } ],
  "metadata" : {
    "kernelspec" : {
      "display_name" : "Python 3",
      "language" : "python",
      "name" : "python3"
    },
    "language_info" : {
      "codemirror_mode" : {
        "name" : "ipython",
        "version" : 2
      },
      "file_extension" : ".py",
      "mimetype" : "text/x-python",
      "name" : "python",
      "nbconvert_exporter" : "python",
      "pygments_lexer" : "ipython2",
      "version" : "2.7.6"
    }
  },
  "nbformat" : 4,
  "nbformat_minor" : 5
}

 


