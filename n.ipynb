
import pandas as pd
import requests
from io import StringIO
import plotly.express as px
import plotly.graph_objects as go
from plotly.subplots import make_subplots
import plotly.offline as pyo

# Ссылка на csv файл видеоданных
url = 'https://drive.google.com/file/d/1xxVEprqDIAMIc9rAIo5LNjAjAzfH2sPq/view?usp=share_link'

file_id = url.split('/')[-2]
dwn_url = 'https://drive.google.com/uc?export=download&id=' + file_id
response = requests.get(dwn_url)
response.raise_for_status()

csv_raw = StringIO(response.text)
raw_data = pd.read_csv(csv_raw)

print("Данные загружены из внешнего CSV файла. Файл не был сгенерирован искусственным интеллектом.\n")
print("Переменные в данных:", raw_data.columns.tolist())

# Completeness: доля непустых значений по столбцам
completeness = raw_data.notnull().mean()

# Uniqueness: доля уникальных строк
total_rows = len(raw_data)
unique_rows = raw_data.drop_duplicates().shape[0]
uniqueness = unique_rows / total_rows if total_rows > 0 else 0

# Duplication Rate: процент дубликатов
duplication_rate = 1 - uniqueness

# Accuracy (простейшая проверка для числовых столбцов — доля отрицательных значений)
accuracy_report = {}
for col in raw_data.columns:
    if pd.api.types.is_numeric_dtype(raw_data[col]):
        neg_count = (raw_data[col] < 0).sum()
        total_count = len(raw_data[col])
        accuracy_report[col] = {
            "negative_values": neg_count,
            "total": total_count,
            "negative_ratio": neg_count / total_count if total_count > 0 else 0
        }
    else:
        accuracy_report[col] = "Не числовой столбец — проверка не выполнена."

print("\nОценка качества данных:")
print("1. Completeness (полнота) по столбцам:")
print(completeness)

print(f"\n2. Uniqueness (уникальность строк): {uniqueness:.4f} ({unique_rows} уникальных из {total_rows} записей)")

print(f"\n3. Duplication Rate (уровень дублирования): {duplication_rate:.4f}")

print("\n4. Accuracy (простейшая проверка отрицательных значений в числовых столбцах):")
for col, stats in accuracy_report.items():
    if isinstance(stats, dict):
        print(f" - {col}: отрицательных значений = {stats['negative_values']} из {stats['total']} "
              f"(доля {stats['negative_ratio']:.4f})")
    else:
        print(f" - {col}: {stats}")

# Создание комплексной визуализации
fig = make_subplots(
    rows=2, cols=2,
    subplot_titles=('Полнота данных по столбцам', 'Распределение числовых данных', 
                   'Уникальность и дублирование', 'Отрицательные значения в числовых столбцах'),
    specs=[[{"type": "bar"}, {"type": "histogram"}],
           [{"type": "pie"}, {"type": "bar"}]]
)

# 1. График полноты данных
completeness_df = completeness.reset_index()
completeness_df.columns = ['column', 'completeness']
fig.add_trace(
    go.Bar(x=completeness_df['column'], y=completeness_df['completeness'], 
           name='Полнота', marker_color='lightblue'),
    row=1, col=1
)

# 2. Гистограмма для числовых данных (первый числовой столбец)
numeric_columns = raw_data.select_dtypes(include=['number']).columns
if len(numeric_columns) > 0:
    first_numeric_col = numeric_columns[0]
    fig.add_trace(
        go.Histogram(x=raw_data[first_numeric_col].dropna(), 
                    name=f'Распределение {first_numeric_col}', marker_color='lightgreen'),
        row=1, col=2
    )

# 3. Круговая диаграмма уникальности
unique_vs_duplicates = pd.DataFrame({
    'type': ['Уникальные', 'Дубликаты'],
    'count': [unique_rows, total_rows - unique_rows]
})
fig.add_trace(
    go.Pie(labels=unique_vs_duplicates['type'], values=unique_vs_duplicates['count'],
           name='Уникальность', marker=dict(colors=['lightgreen', 'lightcoral'])),
    row=2, col=1
)

# 4. График отрицательных значений
negative_ratios = []
column_names = []
for col, stats in accuracy_report.items():
    if isinstance(stats, dict):
        negative_ratios.append(stats['negative_ratio'])
        column_names.append(col)

if negative_ratios:
    fig.add_trace(
        go.Bar(x=column_names, y=negative_ratios, 
               name='Доля отрицательных значений', marker_color='lightcoral'),
        row=2, col=2
    )

fig.update_layout(
    height=800,
    title_text="Комплексная визуализация качества данных",
    showlegend=True
)

# Дополнительные графики Plotly Express
# График полноты данных
fig_completeness = px.bar(completeness_df, x='column', y='completeness',
                         title='Полнота данных по столбцам',
                         labels={'column': 'Столбцы', 'completeness': 'Доля непустых значений'})
fig_completeness.update_traces(marker_color='lightblue')

# Матрица корреляции для числовых данных
if len(numeric_columns) > 1:
    corr_matrix = raw_data[numeric_columns].corr()
    fig_correlation = px.imshow(corr_matrix,
                               title='Матрица корреляции числовых столбцов',
                               color_continuous_scale='RdBu_r',
                               aspect="auto")

# Сохранение всех графиков в один HTML файл
with open('data_quality_dashboard.html', 'w', encoding='utf-8') as f:
    f.write('<html><head><title>Дашборд качества данных</title>')
    f.write('<style>body { font-family: Arial, sans-serif; margin: 20px; }')
    f.write('.plot-container { margin: 30px 0; border: 1px solid #ddd; padding: 10px; }</style></head><body>')
    f.write('<h1>Дашборд качества данных</h1>')
    
    # Основная комплексная визуализация
    f.write('<div class="plot-container">')
    f.write('<h2>Комплексная визуализация</h2>')
    f.write(pyo.plot(fig, include_plotlyjs=True, output_type='div'))
    f.write('</div>')
    
    # График полноты
    f.write('<div class="plot-container">')
    f.write(pyo.plot(fig_completeness, include_plotlyjs=False, output_type='div'))
    f.write('</div>')
    
    # Матрица корреляции
    if len(numeric_columns) > 1:
        f.write('<div class="plot-container">')
        f.write(pyo.plot(fig_correlation, include_plotlyjs=False, output_type='div'))
        f.write('</div>')
    
    # Дополнительные индивидуальные графики для числовых столбцов
    if len(numeric_columns) > 0:
        f.write('<div class="plot-container"><h2>Распределения числовых столбцов</h2>')
        for i, col in enumerate(numeric_columns[:5]):  # Ограничим 5 столбцами
            fig_dist = px.histogram(raw_data, x=col, title=f'Распределение {col}')
            f.write(pyo.plot(fig_dist, include_plotlyjs=False, output_type='div'))
        f.write('</div>')
    
    f.write('</body></html>')

print(f"\nВизуализация завершена! Дашборд сохранен в файл: data_quality_dashboard.html")
print("Откройте этот файл в браузере для просмотра интерактивных графиков.")

# Формируем абсолютный путь к файлу
import os
absolute_path = os.path.abspath('data_quality_dashboard.html')
print(f"Абсолютный путь к файлу: {absolute_path}")
